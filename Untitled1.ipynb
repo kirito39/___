{
 "cells": [
  {
   "cell_type": "code",
   "execution_count": 82,
   "metadata": {},
   "outputs": [],
   "source": [
    "import os\n",
    "import math\n",
    "from collections import Counter"
   ]
  },
  {
   "cell_type": "code",
   "execution_count": 83,
   "metadata": {},
   "outputs": [],
   "source": [
    "ham_docs=[]\n",
    "spam_docs=[]\n",
    "for name in os.listdir(\"enron2/ham\"):\n",
    "    ham_docs.append(name)\n",
    "for name in os.listdir(\"enron2/spam\"):\n",
    "    spam_docs.append(name)"
   ]
  },
  {
   "cell_type": "code",
   "execution_count": 84,
   "metadata": {},
   "outputs": [],
   "source": [
    "total_docs=len(spam_docs)+len(ham_docs)\n",
    "prior_for_ham=len(ham_docs)/total_docs\n",
    "prior_for_spam=len(spam_docs)/total_docs\n",
    "ham_words={}\n",
    "spam_words={}\n",
    "for name in os.listdir(\"./enron2//ham\"):\n",
    "    file=open('./enron2/ham//'+name,errors='ignore')\n",
    "    wordCount=Counter(file.read().split())\n",
    "    for item in wordCount:\n",
    "        if item in ham_words:\n",
    "            ham_words[item][0]+=wordCount[item]\n",
    "        else:\n",
    "            ham_words[item]=[]\n",
    "            ham_words[item].append(wordCount[item])\n",
    "        if item not in spam_words:\n",
    "            spam_words[item]=[0]\n",
    "for name in os.listdir(\"./enron2//spam\"):\n",
    "    file=open('./enron2/spam//'+name,errors='ignore')\n",
    "    wordCount=Counter(file.read().split())\n",
    "    for item in wordCount:\n",
    "        if item in spam_words:\n",
    "            spam_words[item][0]+=wordCount[item]\n",
    "        else:\n",
    "            spam_words[item]=[]\n",
    "            spam_words[item].append(wordCount[item])\n",
    "        if item not in ham_words:\n",
    "            ham_words[item]=[0]"
   ]
  },
  {
   "cell_type": "code",
   "execution_count": 85,
   "metadata": {},
   "outputs": [],
   "source": [
    "docs_countaining_words_for_ham={}\n",
    "for name in os.listdir(\"./enron2//ham\"):\n",
    "    file=open('./enron2/ham//'+name,errors='ignore')\n",
    "    wordCount=Counter(file.read().split())\n",
    "    for word in ham_words:\n",
    "        docs_containing_words_for_ham[word]=[]\n",
    "        docs_containing_words_for_ham[word].append(0)\n",
    "        if word in wordCount:\n",
    "            docs_containing_words_for_ham[word][0]+=1\n",
    "docs_countaining_words_for_spam={}\n",
    "for name in os.listdir(\"./enron2//spam\"):\n",
    "    file=open('./enron2/spam//'+name,errors='ignore')\n",
    "    wordCount=Counter(file.read().split())\n",
    "    for word in spam_words:\n",
    "        docs_containing_words_for_spam[word]=[]\n",
    "        docs_containing_words_for_spam[word].append(0)\n",
    "        if word in wordCount:\n",
    "            docs_containing_words_for_spam[word][0]+=1"
   ]
  },
  {
   "cell_type": "code",
   "execution_count": 86,
   "metadata": {},
   "outputs": [],
   "source": [
    "CP_spam={}\n",
    "CP_ham={}\n",
    "for word in spam_words:\n",
    "    CP_spam[word]=[]\n",
    "    CP_spam[word].append((docs_containing_words_for_spam[word][0]+1)/(len(spam_docs)+2))\n",
    "for word in ham_words:\n",
    "    CP_ham[word]=[]\n",
    "    CP_ham[word].append((docs_containing_words_for_ham[word][0]+1)/(len(ham_docs)+2))\n"
   ]
  },
  {
   "cell_type": "code",
   "execution_count": 87,
   "metadata": {},
   "outputs": [],
   "source": [
    "def testing(item):\n",
    "    file=open(item,errors='ignore')\n",
    "    wordCount=Counter(file.read().split())\n",
    "    score_for_spam=math.log(prior_for_spam)\n",
    "    score_for_ham=math.log(prior_for_ham)\n",
    "    for item in spam_words:\n",
    "        if item in wordCount:\n",
    "            score_for_spam+=math.log(CP_spam[item][0])\n",
    "        else:\n",
    "            score_for_spam+=math.log(1-CP_spam[item][0])\n",
    "    for item in ham_words:\n",
    "        if item in wordCount:\n",
    "            score_for_ham+=math.log(CP_ham[item][0])\n",
    "        else:\n",
    "            score_for_ham+=math.log(1-CP_ham[item][0])\n",
    "    if score_for_ham>=score_for_spam:\n",
    "        return 1\n",
    "    else:\n",
    "        return 0"
   ]
  },
  {
   "cell_type": "code",
   "execution_count": 88,
   "metadata": {},
   "outputs": [],
   "source": [
    "TN=0\n",
    "TP=0\n",
    "FN=0\n",
    "FP=0\n",
    "for name in os.listdir(\"./enron6//ham\"):\n",
    "    if testing(\"enron6/ham//\"+name)==1:\n",
    "        TP+=1\n",
    "    else:\n",
    "        FN+=1\n",
    "for name in os.listdir(\"./enron6//spam\"):\n",
    "    if testing(\"enron6/spam//\"+name)==0:\n",
    "        TN+=1\n",
    "    else:\n",
    "        FP+=1"
   ]
  },
  {
   "cell_type": "code",
   "execution_count": 89,
   "metadata": {},
   "outputs": [],
   "source": [
    "accuracy = (TP + TN)/(TP+TN+FP+FN) \n"
   ]
  },
  {
   "cell_type": "code",
   "execution_count": 90,
   "metadata": {},
   "outputs": [
    {
     "data": {
      "text/plain": [
       "93.34170854271356"
      ]
     },
     "execution_count": 90,
     "metadata": {},
     "output_type": "execute_result"
    }
   ],
   "source": [
    "accuracy*100"
   ]
  },
  {
   "cell_type": "code",
   "execution_count": null,
   "metadata": {},
   "outputs": [],
   "source": []
  }
 ],
 "metadata": {
  "kernelspec": {
   "display_name": "Python 3",
   "language": "python",
   "name": "python3"
  },
  "language_info": {
   "codemirror_mode": {
    "name": "ipython",
    "version": 3
   },
   "file_extension": ".py",
   "mimetype": "text/x-python",
   "name": "python",
   "nbconvert_exporter": "python",
   "pygments_lexer": "ipython3",
   "version": "3.6.5"
  }
 },
 "nbformat": 4,
 "nbformat_minor": 2
}
